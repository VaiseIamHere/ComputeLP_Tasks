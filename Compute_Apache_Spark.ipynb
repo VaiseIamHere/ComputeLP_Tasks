{
  "nbformat": 4,
  "nbformat_minor": 0,
  "metadata": {
    "colab": {
      "provenance": [],
      "authorship_tag": "ABX9TyOkb4+lJ+rDvahHULK4HIBj"
    },
    "kernelspec": {
      "name": "python3",
      "display_name": "Python 3"
    },
    "language_info": {
      "name": "python"
    }
  },
  "cells": [
    {
      "cell_type": "code",
      "source": [
        "from google.colab import drive\n",
        "drive.mount('/content/drive/')"
      ],
      "metadata": {
        "colab": {
          "base_uri": "https://localhost:8080/"
        },
        "id": "pLWJQirXihsl",
        "outputId": "cb360a67-c4a5-4740-845e-8a049a2cc21e"
      },
      "execution_count": null,
      "outputs": [
        {
          "output_type": "stream",
          "name": "stdout",
          "text": [
            "Mounted at /content/drive/\n"
          ]
        }
      ]
    },
    {
      "cell_type": "code",
      "execution_count": 113,
      "metadata": {
        "colab": {
          "base_uri": "https://localhost:8080/"
        },
        "id": "Fa7M0vmuerzF",
        "outputId": "cfacc2da-51ed-4117-c369-dced4b73f7d2"
      },
      "outputs": [
        {
          "output_type": "stream",
          "name": "stdout",
          "text": [
            "Requirement already satisfied: pyspark in /usr/local/lib/python3.10/dist-packages (3.5.3)\n",
            "Requirement already satisfied: py4j==0.10.9.7 in /usr/local/lib/python3.10/dist-packages (from pyspark) (0.10.9.7)\n",
            "Shape of Data: (10, 4)\n",
            "+-------+----+------+---------+\n",
            "|Country| Age|Salary|Purchased|\n",
            "+-------+----+------+---------+\n",
            "| France|  44| 72000|      Yes|\n",
            "|  Spain|  27| 48000|      Yes|\n",
            "|Germany|  30| 54000|       No|\n",
            "|  Spain|  38| 61000|       No|\n",
            "|Germany|  40|  NULL|      Yes|\n",
            "| France|  35| 58000|      Yes|\n",
            "|  Spain|NULL| 52000|       No|\n",
            "| France|  48| 79000|      Yes|\n",
            "|Germany|  50| 83000|       No|\n",
            "| France|  37| 67000|      Yes|\n",
            "+-------+----+------+---------+\n",
            "\n"
          ]
        }
      ],
      "source": [
        "!pip install pyspark\n",
        "\n",
        "import pyspark\n",
        "from pyspark.sql import SparkSession\n",
        "\n",
        "spark = SparkSession.builder.appName(\"Data Preprocessing\").getOrCreate()\n",
        "\n",
        "df = spark.read.csv(\"/content/drive/My Drive/compute_datasets/Data.csv\", header=True, inferSchema=True)\n",
        "\n",
        "print(f\"Shape of Data: {df.count(), len(df.columns)}\")\n",
        "df.show(10)"
      ]
    },
    {
      "cell_type": "code",
      "source": [
        "import pyspark.sql.functions as psql\n",
        "\n",
        "# Checking for missing values\n",
        "missing_values = [psql.count(\n",
        "                      psql.when(\n",
        "                          psql.isnan(col) | psql.col(col).isNull(), col\n",
        "                      )\n",
        "                  ).alias(col) for col in df.columns]\n",
        "\n",
        "df.select(missing_values).show()\n",
        "\n",
        "mean_age = df.select(psql.mean(df['age'])).collect()[0][0]\n",
        "mean_sal = df.select(psql.mean(df['salary'])).collect()[0][0]\n",
        "\n",
        "# Updating the dataset with mean values as average of ages and salary makes more sense than mode or median\n",
        "updates = {\n",
        "    \"age\": round(mean_age),\n",
        "    \"salary\": round(mean_sal)\n",
        "}\n",
        "df = df.na.fill(updates)\n",
        "\n",
        "df.show(10)"
      ],
      "metadata": {
        "colab": {
          "base_uri": "https://localhost:8080/"
        },
        "id": "686qgjkFjQpH",
        "outputId": "f84ea0c5-55df-4565-e43f-3a04dc05edea"
      },
      "execution_count": 114,
      "outputs": [
        {
          "output_type": "stream",
          "name": "stdout",
          "text": [
            "+-------+---+------+---------+\n",
            "|Country|Age|Salary|Purchased|\n",
            "+-------+---+------+---------+\n",
            "|      0|  1|     1|        0|\n",
            "+-------+---+------+---------+\n",
            "\n",
            "+-------+---+------+---------+\n",
            "|Country|Age|Salary|Purchased|\n",
            "+-------+---+------+---------+\n",
            "| France| 44| 72000|      Yes|\n",
            "|  Spain| 27| 48000|      Yes|\n",
            "|Germany| 30| 54000|       No|\n",
            "|  Spain| 38| 61000|       No|\n",
            "|Germany| 40| 63778|      Yes|\n",
            "| France| 35| 58000|      Yes|\n",
            "|  Spain| 39| 52000|       No|\n",
            "| France| 48| 79000|      Yes|\n",
            "|Germany| 50| 83000|       No|\n",
            "| France| 37| 67000|      Yes|\n",
            "+-------+---+------+---------+\n",
            "\n"
          ]
        }
      ]
    },
    {
      "cell_type": "code",
      "source": [
        "from pyspark.ml.feature import MinMaxScaler, StringIndexer, VectorAssembler\n",
        "\n",
        "# VectorAssembler is a must use for Numeric cols\n",
        "\n",
        "assembler = VectorAssembler(\n",
        "    inputCols=[\"Age\"],\n",
        "    outputCol=\"AgeVec\",\n",
        "    handleInvalid=\"keep\"\n",
        ")\n",
        "df = assembler.transform(df)\n",
        "\n",
        "assembler = VectorAssembler(\n",
        "    inputCols=[\"Salary\"],\n",
        "    outputCol=\"SalaryVec\",\n",
        "    handleInvalid=\"keep\"\n",
        ")\n",
        "df = assembler.transform(df)\n",
        "\n",
        "# Using MinMaxScaler for Both numerical cols as we don't age and salary both to be negative\n",
        "# Using StringIndexer for Country col which is pyspark's label encoder as the number of countries can increase\n",
        "# Using String Indexer for Purchased as well as It will assign 1 & 0 for Yes & No(or vice versa)\n",
        "\n",
        "scaler = MinMaxScaler(inputCol=\"SalaryVec\", outputCol=\"SalaryVec_scaled\")\n",
        "df = scaler.fit(df).transform(df).drop(\"SalaryVec\")\n",
        "\n",
        "scaler = MinMaxScaler(inputCol=\"AgeVec\", outputCol=\"AgeVec_scaled\")\n",
        "df = scaler.fit(df).transform(df).drop(\"AgeVec\")\n"
      ],
      "metadata": {
        "id": "BvkL4clvpUzR"
      },
      "execution_count": 115,
      "outputs": []
    },
    {
      "cell_type": "code",
      "source": [
        "from pyspark.ml.feature import StringIndexer\n",
        "\n",
        "indexer = StringIndexer(inputCol=\"Country\", outputCol=\"Country_indexed\")\n",
        "df = indexer.fit(df).transform(df).drop(\"Country\")\n",
        "\n",
        "indexer = StringIndexer(inputCol=\"Purchased\", outputCol=\"Purchased_indexed\")\n",
        "df = indexer.fit(df).transform(df).drop(\"Purchased\")\n",
        "\n",
        "df.show()"
      ],
      "metadata": {
        "colab": {
          "base_uri": "https://localhost:8080/"
        },
        "id": "SKujBaWXxNzX",
        "outputId": "02b18929-2d07-47fd-b090-5b385d115faa"
      },
      "execution_count": 116,
      "outputs": [
        {
          "output_type": "stream",
          "name": "stdout",
          "text": [
            "+---+------+--------------------+--------------------+---------------+-----------------+\n",
            "|Age|Salary|    SalaryVec_scaled|       AgeVec_scaled|Country_indexed|Purchased_indexed|\n",
            "+---+------+--------------------+--------------------+---------------+-----------------+\n",
            "| 44| 72000|[0.6857142857142857]|[0.7391304347826086]|            0.0|              0.0|\n",
            "| 27| 48000|               [0.0]|               [0.0]|            2.0|              0.0|\n",
            "| 30| 54000|[0.17142857142857...|[0.13043478260869...|            1.0|              1.0|\n",
            "| 38| 61000|[0.37142857142857...|[0.4782608695652174]|            2.0|              1.0|\n",
            "| 40| 63778|            [0.4508]|[0.5652173913043478]|            1.0|              0.0|\n",
            "| 35| 58000|[0.2857142857142857]|[0.34782608695652...|            0.0|              0.0|\n",
            "| 39| 52000|[0.11428571428571...|[0.5217391304347826]|            2.0|              1.0|\n",
            "| 48| 79000|[0.8857142857142857]|[0.9130434782608695]|            0.0|              0.0|\n",
            "| 50| 83000|               [1.0]|               [1.0]|            1.0|              1.0|\n",
            "| 37| 67000|[0.5428571428571428]|[0.43478260869565...|            0.0|              0.0|\n",
            "+---+------+--------------------+--------------------+---------------+-----------------+\n",
            "\n"
          ]
        }
      ]
    },
    {
      "cell_type": "code",
      "source": [
        "df_transformed = df.withColumn(\"log_transformed_Salary\", psql.log(df[\"Salary\"]))\\\n",
        "                   .withColumn(\"log_transformed_Age\", psql.log(df[\"Age\"]))\n",
        "df_transformed.show()"
      ],
      "metadata": {
        "colab": {
          "base_uri": "https://localhost:8080/"
        },
        "id": "gNgZW68j8ULZ",
        "outputId": "3a3ed3b0-bf9e-45c3-ee6a-ca6d38ed2ff0"
      },
      "execution_count": 117,
      "outputs": [
        {
          "output_type": "stream",
          "name": "stdout",
          "text": [
            "+---+------+--------------------+--------------------+---------------+-----------------+----------------------+-------------------+\n",
            "|Age|Salary|    SalaryVec_scaled|       AgeVec_scaled|Country_indexed|Purchased_indexed|log_transformed_Salary|log_transformed_Age|\n",
            "+---+------+--------------------+--------------------+---------------+-----------------+----------------------+-------------------+\n",
            "| 44| 72000|[0.6857142857142857]|[0.7391304347826086]|            0.0|              0.0|    11.184421397998193|  3.784189633918261|\n",
            "| 27| 48000|               [0.0]|               [0.0]|            2.0|              0.0|    10.778956289890028|  3.295836866004329|\n",
            "| 30| 54000|[0.17142857142857...|[0.13043478260869...|            1.0|              1.0|    10.896739325546411| 3.4011973816621555|\n",
            "| 38| 61000|[0.37142857142857...|[0.4782608695652174]|            2.0|              1.0|    11.018629143155449| 3.6375861597263857|\n",
            "| 40| 63778|            [0.4508]|[0.5652173913043478]|            1.0|              0.0|    11.063163582279971| 3.6888794541139363|\n",
            "| 35| 58000|[0.2857142857142857]|[0.34782608695652...|            0.0|              0.0|    10.968198289528557| 3.5553480614894135|\n",
            "| 39| 52000|[0.11428571428571...|[0.5217391304347826]|            2.0|              1.0|    10.858998997563564| 3.6635616461296463|\n",
            "| 48| 79000|[0.8857142857142857]|[0.9130434782608695]|            0.0|              0.0|     11.27720313144916| 3.8712010109078907|\n",
            "| 50| 83000|               [1.0]|               [1.0]|            1.0|              1.0|    11.326595886778735|  3.912023005428146|\n",
            "| 37| 67000|[0.5428571428571428]|[0.43478260869565...|            0.0|              0.0|    11.112447898373103| 3.6109179126442243|\n",
            "+---+------+--------------------+--------------------+---------------+-----------------+----------------------+-------------------+\n",
            "\n"
          ]
        }
      ]
    },
    {
      "cell_type": "code",
      "source": [
        "# This feature could potenially show if the Salary increases with Age\n",
        "df_transformed = df_transformed.withColumn(\"Salary/Age\",\n",
        "                                           df_transformed[\"Salary\"] /\n",
        "                                           df_transformed[\"Age\"])\n",
        "\n",
        "# Grouping continuous variables (e.g., age into categories)\n",
        "\n",
        "df_transformed = df_transformed.withColumn(\"age_group\",\n",
        "                                      psql.when(df_transformed[\"age\"] < 30, \"young\")\n",
        "                                      .when((df_transformed[\"age\"] >= 30) & (df_transformed[\"age\"] < 50), \"middle_aged\")\n",
        "                                      .otherwise(\"old\"))\n",
        "\n",
        "# Display age groups\n",
        "df_transformed.select([\"age_group\", \"Salary/Age\"]).show(10)\n"
      ],
      "metadata": {
        "id": "gUQHvPsL-Tct",
        "colab": {
          "base_uri": "https://localhost:8080/"
        },
        "outputId": "99f08fc0-ad9c-4093-9de4-eca4bd8dbf8d"
      },
      "execution_count": 118,
      "outputs": [
        {
          "output_type": "stream",
          "name": "stdout",
          "text": [
            "+-----------+------------------+\n",
            "|  age_group|        Salary/Age|\n",
            "+-----------+------------------+\n",
            "|middle_aged|1636.3636363636363|\n",
            "|      young|1777.7777777777778|\n",
            "|middle_aged|            1800.0|\n",
            "|middle_aged|1605.2631578947369|\n",
            "|middle_aged|           1594.45|\n",
            "|middle_aged| 1657.142857142857|\n",
            "|middle_aged|1333.3333333333333|\n",
            "|middle_aged|1645.8333333333333|\n",
            "|        old|            1660.0|\n",
            "|middle_aged|1810.8108108108108|\n",
            "+-----------+------------------+\n",
            "\n"
          ]
        }
      ]
    },
    {
      "cell_type": "code",
      "source": [
        "from pyspark.sql.functions import col, expr, mean\n",
        "\n",
        "# Z Score based removal based on age\n",
        "mean_val = df_transformed.select(mean(col(\"Age\"))).collect()[0][0]\n",
        "stddev_val = df_transformed.select(expr(\"stddev(Age)\")).collect()[0][0]\n",
        "\n",
        "df_outliers_removed_Z = df_transformed.filter((df_transformed[\"Age\"] > (mean_val - 3 * stddev_val)) &\n",
        "                                       (df_transformed[\"Age\"] < (mean_val + 3 * stddev_val)))\n",
        "\n",
        "print(\"Z Score based removal based on age\")\n",
        "df_outliers_removed_Z.show(10)\n",
        "\n",
        "# Z Score based removal based on Salary\n",
        "mean_val = df_transformed.select(mean(col(\"Salary\"))).collect()[0][0]\n",
        "stddev_val = df_transformed.select(expr(\"stddev(Salary)\")).collect()[0][0]\n",
        "\n",
        "df_outliers_removed_Z = df_transformed.filter((df_transformed[\"Salary\"] > (mean_val - 3 * stddev_val)) &\n",
        "                                       (df_transformed[\"Salary\"] < (mean_val + 3 * stddev_val)))\n",
        "\n",
        "print(\"Z Score based removal based on Salary\")\n",
        "df_outliers_removed_Z.show(10)\n",
        "\n",
        "# IQR Based removal based on salary (Same can be done with age)\n",
        "q1 = df_transformed.approxQuantile(\"Salary\", [0.25], 0.01)[0]\n",
        "q3 = df_transformed.approxQuantile(\"Salary\", [0.75], 0.01)[0]\n",
        "iqr = q3 - q1\n",
        "\n",
        "df_outliers_removed_iqr = df_transformed.filter((df_transformed[\"Salary\"] > (q1 - 1.5 * iqr)) &\n",
        "                                           (df_transformed[\"Salary\"] < (q3 + 1.5 * iqr)))\n",
        "\n",
        "print(\"IQR Based removal based on salary\")\n",
        "df_outliers_removed_iqr.show(10)\n",
        "\n",
        "\n",
        "# All the below results show same dimensions as that of the original df\n",
        "# It suggests that the given data is free of Outliers."
      ],
      "metadata": {
        "colab": {
          "base_uri": "https://localhost:8080/"
        },
        "id": "GE_XwantId0E",
        "outputId": "9aae8047-a3bb-4172-cd56-cce3047bef1f"
      },
      "execution_count": 119,
      "outputs": [
        {
          "output_type": "stream",
          "name": "stdout",
          "text": [
            "Z Score based removal based on age\n",
            "+---+------+--------------------+--------------------+---------------+-----------------+----------------------+-------------------+------------------+-----------+\n",
            "|Age|Salary|    SalaryVec_scaled|       AgeVec_scaled|Country_indexed|Purchased_indexed|log_transformed_Salary|log_transformed_Age|        Salary/Age|  age_group|\n",
            "+---+------+--------------------+--------------------+---------------+-----------------+----------------------+-------------------+------------------+-----------+\n",
            "| 44| 72000|[0.6857142857142857]|[0.7391304347826086]|            0.0|              0.0|    11.184421397998193|  3.784189633918261|1636.3636363636363|middle_aged|\n",
            "| 27| 48000|               [0.0]|               [0.0]|            2.0|              0.0|    10.778956289890028|  3.295836866004329|1777.7777777777778|      young|\n",
            "| 30| 54000|[0.17142857142857...|[0.13043478260869...|            1.0|              1.0|    10.896739325546411| 3.4011973816621555|            1800.0|middle_aged|\n",
            "| 38| 61000|[0.37142857142857...|[0.4782608695652174]|            2.0|              1.0|    11.018629143155449| 3.6375861597263857|1605.2631578947369|middle_aged|\n",
            "| 40| 63778|            [0.4508]|[0.5652173913043478]|            1.0|              0.0|    11.063163582279971| 3.6888794541139363|           1594.45|middle_aged|\n",
            "| 35| 58000|[0.2857142857142857]|[0.34782608695652...|            0.0|              0.0|    10.968198289528557| 3.5553480614894135| 1657.142857142857|middle_aged|\n",
            "| 39| 52000|[0.11428571428571...|[0.5217391304347826]|            2.0|              1.0|    10.858998997563564| 3.6635616461296463|1333.3333333333333|middle_aged|\n",
            "| 48| 79000|[0.8857142857142857]|[0.9130434782608695]|            0.0|              0.0|     11.27720313144916| 3.8712010109078907|1645.8333333333333|middle_aged|\n",
            "| 50| 83000|               [1.0]|               [1.0]|            1.0|              1.0|    11.326595886778735|  3.912023005428146|            1660.0|        old|\n",
            "| 37| 67000|[0.5428571428571428]|[0.43478260869565...|            0.0|              0.0|    11.112447898373103| 3.6109179126442243|1810.8108108108108|middle_aged|\n",
            "+---+------+--------------------+--------------------+---------------+-----------------+----------------------+-------------------+------------------+-----------+\n",
            "\n",
            "Z Score based removal based on Salary\n",
            "+---+------+--------------------+--------------------+---------------+-----------------+----------------------+-------------------+------------------+-----------+\n",
            "|Age|Salary|    SalaryVec_scaled|       AgeVec_scaled|Country_indexed|Purchased_indexed|log_transformed_Salary|log_transformed_Age|        Salary/Age|  age_group|\n",
            "+---+------+--------------------+--------------------+---------------+-----------------+----------------------+-------------------+------------------+-----------+\n",
            "| 44| 72000|[0.6857142857142857]|[0.7391304347826086]|            0.0|              0.0|    11.184421397998193|  3.784189633918261|1636.3636363636363|middle_aged|\n",
            "| 27| 48000|               [0.0]|               [0.0]|            2.0|              0.0|    10.778956289890028|  3.295836866004329|1777.7777777777778|      young|\n",
            "| 30| 54000|[0.17142857142857...|[0.13043478260869...|            1.0|              1.0|    10.896739325546411| 3.4011973816621555|            1800.0|middle_aged|\n",
            "| 38| 61000|[0.37142857142857...|[0.4782608695652174]|            2.0|              1.0|    11.018629143155449| 3.6375861597263857|1605.2631578947369|middle_aged|\n",
            "| 40| 63778|            [0.4508]|[0.5652173913043478]|            1.0|              0.0|    11.063163582279971| 3.6888794541139363|           1594.45|middle_aged|\n",
            "| 35| 58000|[0.2857142857142857]|[0.34782608695652...|            0.0|              0.0|    10.968198289528557| 3.5553480614894135| 1657.142857142857|middle_aged|\n",
            "| 39| 52000|[0.11428571428571...|[0.5217391304347826]|            2.0|              1.0|    10.858998997563564| 3.6635616461296463|1333.3333333333333|middle_aged|\n",
            "| 48| 79000|[0.8857142857142857]|[0.9130434782608695]|            0.0|              0.0|     11.27720313144916| 3.8712010109078907|1645.8333333333333|middle_aged|\n",
            "| 50| 83000|               [1.0]|               [1.0]|            1.0|              1.0|    11.326595886778735|  3.912023005428146|            1660.0|        old|\n",
            "| 37| 67000|[0.5428571428571428]|[0.43478260869565...|            0.0|              0.0|    11.112447898373103| 3.6109179126442243|1810.8108108108108|middle_aged|\n",
            "+---+------+--------------------+--------------------+---------------+-----------------+----------------------+-------------------+------------------+-----------+\n",
            "\n",
            "IQR Based removal based on salary\n",
            "+---+------+--------------------+--------------------+---------------+-----------------+----------------------+-------------------+------------------+-----------+\n",
            "|Age|Salary|    SalaryVec_scaled|       AgeVec_scaled|Country_indexed|Purchased_indexed|log_transformed_Salary|log_transformed_Age|        Salary/Age|  age_group|\n",
            "+---+------+--------------------+--------------------+---------------+-----------------+----------------------+-------------------+------------------+-----------+\n",
            "| 44| 72000|[0.6857142857142857]|[0.7391304347826086]|            0.0|              0.0|    11.184421397998193|  3.784189633918261|1636.3636363636363|middle_aged|\n",
            "| 27| 48000|               [0.0]|               [0.0]|            2.0|              0.0|    10.778956289890028|  3.295836866004329|1777.7777777777778|      young|\n",
            "| 30| 54000|[0.17142857142857...|[0.13043478260869...|            1.0|              1.0|    10.896739325546411| 3.4011973816621555|            1800.0|middle_aged|\n",
            "| 38| 61000|[0.37142857142857...|[0.4782608695652174]|            2.0|              1.0|    11.018629143155449| 3.6375861597263857|1605.2631578947369|middle_aged|\n",
            "| 40| 63778|            [0.4508]|[0.5652173913043478]|            1.0|              0.0|    11.063163582279971| 3.6888794541139363|           1594.45|middle_aged|\n",
            "| 35| 58000|[0.2857142857142857]|[0.34782608695652...|            0.0|              0.0|    10.968198289528557| 3.5553480614894135| 1657.142857142857|middle_aged|\n",
            "| 39| 52000|[0.11428571428571...|[0.5217391304347826]|            2.0|              1.0|    10.858998997563564| 3.6635616461296463|1333.3333333333333|middle_aged|\n",
            "| 48| 79000|[0.8857142857142857]|[0.9130434782608695]|            0.0|              0.0|     11.27720313144916| 3.8712010109078907|1645.8333333333333|middle_aged|\n",
            "| 50| 83000|               [1.0]|               [1.0]|            1.0|              1.0|    11.326595886778735|  3.912023005428146|            1660.0|        old|\n",
            "| 37| 67000|[0.5428571428571428]|[0.43478260869565...|            0.0|              0.0|    11.112447898373103| 3.6109179126442243|1810.8108108108108|middle_aged|\n",
            "+---+------+--------------------+--------------------+---------------+-----------------+----------------------+-------------------+------------------+-----------+\n",
            "\n"
          ]
        }
      ]
    },
    {
      "cell_type": "code",
      "source": [
        "train_data, test_data = df_transformed.randomSplit([0.8, 0.2], seed=12)\n",
        "\n",
        "print(f\"Training set count: {train_data.count()}\")\n",
        "print(f\"Testing set count: {test_data.count()}\")\n",
        "\n",
        "train_data.show()\n",
        "test_data.show()\n",
        "\n",
        "# Train Test Split is necessary as it helps us to realize how efficient our model is on the data it has never seen before,\n",
        "# which is what matters the most when creating and ML Model for any classification or regression."
      ],
      "metadata": {
        "colab": {
          "base_uri": "https://localhost:8080/"
        },
        "id": "Cvvsr93DKw12",
        "outputId": "d985c54f-51b2-43ca-ef94-b3b95f734372"
      },
      "execution_count": 123,
      "outputs": [
        {
          "output_type": "stream",
          "name": "stdout",
          "text": [
            "Training set count: 8\n",
            "Testing set count: 2\n",
            "+---+------+--------------------+--------------------+---------------+-----------------+----------------------+-------------------+------------------+-----------+\n",
            "|Age|Salary|    SalaryVec_scaled|       AgeVec_scaled|Country_indexed|Purchased_indexed|log_transformed_Salary|log_transformed_Age|        Salary/Age|  age_group|\n",
            "+---+------+--------------------+--------------------+---------------+-----------------+----------------------+-------------------+------------------+-----------+\n",
            "| 27| 48000|               [0.0]|               [0.0]|            2.0|              0.0|    10.778956289890028|  3.295836866004329|1777.7777777777778|      young|\n",
            "| 35| 58000|[0.2857142857142857]|[0.34782608695652...|            0.0|              0.0|    10.968198289528557| 3.5553480614894135| 1657.142857142857|middle_aged|\n",
            "| 37| 67000|[0.5428571428571428]|[0.43478260869565...|            0.0|              0.0|    11.112447898373103| 3.6109179126442243|1810.8108108108108|middle_aged|\n",
            "| 38| 61000|[0.37142857142857...|[0.4782608695652174]|            2.0|              1.0|    11.018629143155449| 3.6375861597263857|1605.2631578947369|middle_aged|\n",
            "| 39| 52000|[0.11428571428571...|[0.5217391304347826]|            2.0|              1.0|    10.858998997563564| 3.6635616461296463|1333.3333333333333|middle_aged|\n",
            "| 40| 63778|            [0.4508]|[0.5652173913043478]|            1.0|              0.0|    11.063163582279971| 3.6888794541139363|           1594.45|middle_aged|\n",
            "| 48| 79000|[0.8857142857142857]|[0.9130434782608695]|            0.0|              0.0|     11.27720313144916| 3.8712010109078907|1645.8333333333333|middle_aged|\n",
            "| 50| 83000|               [1.0]|               [1.0]|            1.0|              1.0|    11.326595886778735|  3.912023005428146|            1660.0|        old|\n",
            "+---+------+--------------------+--------------------+---------------+-----------------+----------------------+-------------------+------------------+-----------+\n",
            "\n",
            "+---+------+--------------------+--------------------+---------------+-----------------+----------------------+-------------------+------------------+-----------+\n",
            "|Age|Salary|    SalaryVec_scaled|       AgeVec_scaled|Country_indexed|Purchased_indexed|log_transformed_Salary|log_transformed_Age|        Salary/Age|  age_group|\n",
            "+---+------+--------------------+--------------------+---------------+-----------------+----------------------+-------------------+------------------+-----------+\n",
            "| 30| 54000|[0.17142857142857...|[0.13043478260869...|            1.0|              1.0|    10.896739325546411| 3.4011973816621555|            1800.0|middle_aged|\n",
            "| 44| 72000|[0.6857142857142857]|[0.7391304347826086]|            0.0|              0.0|    11.184421397998193|  3.784189633918261|1636.3636363636363|middle_aged|\n",
            "+---+------+--------------------+--------------------+---------------+-----------------+----------------------+-------------------+------------------+-----------+\n",
            "\n"
          ]
        }
      ]
    }
  ]
}